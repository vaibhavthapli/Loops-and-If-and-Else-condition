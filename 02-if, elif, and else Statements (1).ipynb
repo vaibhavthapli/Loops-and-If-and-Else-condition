{
 "cells": [
  {
   "cell_type": "markdown",
   "metadata": {},
   "source": [
    "# if, elif, else Statements\n",
    "\n",
    "<code>if</code> Statements in Python allows us to tell the computer to perform alternative actions based on a certain set of results.\n",
    "\n",
    "Verbally, we can imagine we are telling the computer:\n",
    "\n",
    "\"Hey if this case happens, perform some action\"\n",
    "\n",
    "We can then expand the idea further with <code>elif</code> and <code>else</code> statements, which allow us to tell the computer:\n",
    "\n",
    "\"Hey if this case happens, perform some action. Else, if another case happens, perform some other action. Else, if *none* of the above cases happened, perform this action.\"\n",
    "\n",
    "Let's go ahead and look at the syntax format for <code>if</code> statements to get a better idea of this:\n",
    "\n",
    "    if case1:\n",
    "        perform action1\n",
    "    elif case2:\n",
    "        perform action2\n",
    "    else: \n",
    "        perform action3"
   ]
  },
  {
   "cell_type": "markdown",
   "metadata": {},
   "source": [
    "## First Example\n",
    "\n",
    "Let's see a quick example of this:"
   ]
  },
  {
   "cell_type": "code",
   "execution_count": 3,
   "metadata": {},
   "outputs": [],
   "source": [
    " a= False"
   ]
  },
  {
   "cell_type": "code",
   "execution_count": 4,
   "metadata": {},
   "outputs": [
    {
     "name": "stdout",
     "output_type": "stream",
     "text": [
      "It was False!\n"
     ]
    }
   ],
   "source": [
    "if a:\n",
    "    print(\"It was False!\")\n",
    "else:\n",
    "    print(\"jupyter embarrased me\")"
   ]
  },
  {
   "cell_type": "markdown",
   "metadata": {},
   "source": [
    "Let's add in some else logic:"
   ]
  },
  {
   "cell_type": "code",
   "execution_count": 4,
   "metadata": {},
   "outputs": [
    {
     "name": "stdout",
     "output_type": "stream",
     "text": [
      "x is True!\n"
     ]
    }
   ],
   "source": [
    "x = True\n",
    "\n",
    "if x:\n",
    "    print('x is True!')\n",
    "else:\n",
    "    print('I will be printed in any case where x is not true')"
   ]
  },
  {
   "cell_type": "markdown",
   "metadata": {},
   "source": [
    "### Multiple Branches\n",
    "\n",
    "Let's get a fuller picture of how far <code>if</code>, <code>elif</code>, and <code>else</code> can take us!\n",
    "\n",
    "We write this out in a nested structure. Take note of how the <code>if</code>, <code>elif</code>, and <code>else</code> line up in the code. This can help you see what <code>if</code> is related to what <code>elif</code> or <code>else</code> statements.\n",
    "\n",
    "We'll reintroduce a comparison syntax for Python."
   ]
  },
  {
   "cell_type": "code",
   "execution_count": 6,
   "metadata": {},
   "outputs": [
    {
     "name": "stdout",
     "output_type": "stream",
     "text": [
      "Welcome to the Bar!\n"
     ]
    }
   ],
   "source": [
    "loc = 'Bar'\n",
    "\n",
    "if loc == 'Bar':\n",
    "    print('Welcome to the Bar!')\n",
    "elif loc == 'Bank':\n",
    "    print('Welcome to the bank!')\n",
    "else:\n",
    "    print('Where are you?')"
   ]
  },
  {
   "cell_type": "markdown",
   "metadata": {},
   "source": [
    "Note how the nested <code>if</code> statements are each checked until a True boolean causes the nested code below it to run. You should also note that you can put in as many <code>elif</code> statements as you want before you close off with an <code>else</code>.\n",
    "\n",
    "Let's create two more simple examples for the <code>if</code>, <code>elif</code>, and <code>else</code> statements:"
   ]
  },
  {
   "cell_type": "code",
   "execution_count": 9,
   "metadata": {},
   "outputs": [
    {
     "name": "stdout",
     "output_type": "stream",
     "text": [
      "Welcome Virat!\n"
     ]
    }
   ],
   "source": [
    "person = 'Virat'\n",
    "\n",
    "if person == 'Virat':\n",
    "    print('Welcome Virat!')\n",
    "else:\n",
    "    print(\"Welcome, what's your name?\")"
   ]
  },
  {
   "cell_type": "code",
   "execution_count": 10,
   "metadata": {},
   "outputs": [
    {
     "name": "stdout",
     "output_type": "stream",
     "text": [
      "Welcome, what's your name?\n"
     ]
    }
   ],
   "source": [
    "person = 'Micheal'\n",
    "\n",
    "if person == 'Sammy':\n",
    "    print('Welcome Sammy!')\n",
    "elif person =='George':\n",
    "    print('Welcome George!')\n",
    "else:\n",
    "    print(\"Welcome, what's your name?\")"
   ]
  },
  {
   "cell_type": "markdown",
   "metadata": {},
   "source": [
    "## Indentation\n",
    "\n",
    "It is important to keep a good understanding of how indentation works in Python to maintain the structure and order of your code. We will touch on this topic again when we start building out functions!"
   ]
  },
  {
   "cell_type": "code",
   "execution_count": null,
   "metadata": {},
   "outputs": [],
   "source": [
    "print(\"welcome to the store\")\n",
    "print(\"what would you like to have\")\n",
    "x = input(\"press c for cheese and v for veggie\")\n",
    "if x == 'c':\n",
    "    y = input(\"enter c for cheddar and b for blue\")\n",
    "    if y == 'c':\n",
    "        print(\"here is your cheddar cheese sandwich\")\n",
    "    else:\n",
    "        print(\"here is your blue cheese sandwich\")\n",
    "elif x == 'v':\n",
    "    print(\"here is your veggie special\")\n",
    "else:\n",
    "    print(\"we dont have the sandwich type you are looking for\")"
   ]
  },
  {
   "cell_type": "code",
   "execution_count": 3,
   "metadata": {},
   "outputs": [
    {
     "name": "stdout",
     "output_type": "stream",
     "text": [
      "what would you like to have\n",
      "press c for cheese and m for machengog\n",
      "sorry\n"
     ]
    }
   ],
   "source": [
    "# print(\"welcome to the store\")\n",
    "print(\"what would you like to have\")\n",
    "x = input(\"press c for cheese and m for machengo\")\n",
    "if x == 'c':\n",
    "    print(\"here your cheddar sandwich\")\n",
    "elif x == 'm':\n",
    "    print(\"here your machenga sandwich\")\n",
    "    \n",
    "else:\n",
    "    print(\"sorry\")"
   ]
  },
  {
   "cell_type": "markdown",
   "metadata": {},
   "source": [
    "# practice question"
   ]
  },
  {
   "cell_type": "code",
   "execution_count": null,
   "metadata": {},
   "outputs": [],
   "source": [
    "# leap year"
   ]
  },
  {
   "cell_type": "code",
   "execution_count": 3,
   "metadata": {},
   "outputs": [
    {
     "name": "stdout",
     "output_type": "stream",
     "text": [
      "find the leap year\n",
      "enter the days:1334\n",
      "this ia not a leap year\n"
     ]
    }
   ],
   "source": [
    "#days = 365\n",
    "print(\"find the leap year\")\n",
    "x = int(input(\"enter the days:\"))\n",
    "if (x % 400) == 0:\n",
    "    print(\"this is a leap year\")\n",
    "elif (x%4) ==0:\n",
    "    print(\"this is a leap year\")\n",
    "else:\n",
    "    print(\"this ia not a leap year\")"
   ]
  },
  {
   "cell_type": "code",
   "execution_count": 4,
   "metadata": {},
   "outputs": [
    {
     "name": "stdout",
     "output_type": "stream",
     "text": [
      "Enter the letter: a\n",
      "The enter letter is a vowel\n"
     ]
    }
   ],
   "source": [
    "x = input(\"Enter the letter: \")\n",
    "if x == 'a' or x=='e' or x=='i' or x=='o' or x=='u':\n",
    "    print(\"The enter letter is a vowel\")\n",
    "elif x==y:\n",
    "    print(\"Letter is  vowel\")\n",
    "    print(\"letter is consonant\")\n",
    "else:\n",
    "    print(\"The enter letter is consonant\")"
   ]
  },
  {
   "cell_type": "code",
   "execution_count": null,
   "metadata": {},
   "outputs": [],
   "source": [
    "or"
   ]
  },
  {
   "cell_type": "code",
   "execution_count": 12,
   "metadata": {},
   "outputs": [
    {
     "name": "stdout",
     "output_type": "stream",
     "text": [
      "Enter the letter: a\n",
      "letter is vowel\n"
     ]
    }
   ],
   "source": [
    "x = input(\"Enter the letter: \")\n",
    "if x=='a':\n",
    "    print(\"letter is vowel\")\n",
    "elif x=='e':\n",
    "    print(\"letter is vowel\")\n",
    "elif x=='i':\n",
    "    print(\"letter is vowel\")\n",
    "elif x=='o':\n",
    "    print(\"letter is vowel\")\n",
    "elif x=='u':\n",
    "    print(\"letter is vowel\")\n",
    "\n",
    "elif x=='y':\n",
    "    print(\"letter is vowel \")\n",
    "    print(\"letter is consonant\")\n",
    "else:\n",
    "    print(\"letter is consonant\")"
   ]
  },
  {
   "cell_type": "code",
   "execution_count": null,
   "metadata": {},
   "outputs": [],
   "source": []
  },
  {
   "cell_type": "code",
   "execution_count": null,
   "metadata": {},
   "outputs": [],
   "source": []
  }
 ],
 "metadata": {
  "kernelspec": {
   "display_name": "Python 3",
   "language": "python",
   "name": "python3"
  },
  "language_info": {
   "codemirror_mode": {
    "name": "ipython",
    "version": 3
   },
   "file_extension": ".py",
   "mimetype": "text/x-python",
   "name": "python",
   "nbconvert_exporter": "python",
   "pygments_lexer": "ipython3",
   "version": "3.7.3"
  }
 },
 "nbformat": 4,
 "nbformat_minor": 1
}
